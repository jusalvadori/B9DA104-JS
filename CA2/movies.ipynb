{
 "cells": [
  {
   "cell_type": "code",
   "execution_count": 1,
   "metadata": {},
   "outputs": [],
   "source": [
    "# Dublin Business School\n",
    "# @author: Juliana Salvadori\n",
    "# @Student_number: 10521647\n",
    "# @Assigment: CA2 - Regression model"
   ]
  },
  {
   "cell_type": "code",
   "execution_count": 40,
   "metadata": {},
   "outputs": [],
   "source": [
    "import pandas as pd\n",
    "import numpy as np\n",
    "import matplotlib.pyplot as pyplot  \n",
    "from sklearn.preprocessing import MinMaxScaler\n",
    "from sklearn.model_selection import train_test_split , KFold \n",
    "from sklearn.linear_model import LinearRegression  \n",
    "from sklearn.metrics import mean_squared_error, r2_score, mean_absolute_error\n",
    "from sklearn.neural_network import MLPRegressor "
   ]
  },
  {
   "cell_type": "code",
   "execution_count": 4,
   "metadata": {},
   "outputs": [],
   "source": [
    "'''\n",
    "Load data\n",
    "######################################\n",
    "'''\n",
    "file_name='movies.csv'\n",
    "data = pd.read_csv(file_name)"
   ]
  },
  {
   "cell_type": "code",
   "execution_count": 5,
   "metadata": {},
   "outputs": [],
   "source": [
    "# set options to display all columns of the dataset\n",
    "pd.options.display.max_columns = data.shape[1]"
   ]
  },
  {
   "cell_type": "code",
   "execution_count": 6,
   "metadata": {},
   "outputs": [
    {
     "name": "stdout",
     "output_type": "stream",
     "text": [
      "   year       imdb                   title             test clean_test binary  \\\n",
      "0  2013  tt1711425           21 &amp; Over           notalk     notalk   FAIL   \n",
      "1  2012  tt1343727                Dredd 3D      ok-disagree         ok   PASS   \n",
      "2  2013  tt2024544        12 Years a Slave  notalk-disagree     notalk   FAIL   \n",
      "3  2013  tt1272878                  2 Guns           notalk     notalk   FAIL   \n",
      "4  2013  tt0453562                      42              men        men   FAIL   \n",
      "5  2013  tt1335975                47 Ronin              men        men   FAIL   \n",
      "6  2013  tt1606378  A Good Day to Die Hard           notalk     notalk   FAIL   \n",
      "7  2013  tt2194499              About Time      ok-disagree         ok   PASS   \n",
      "8  2013  tt1814621               Admission               ok         ok   PASS   \n",
      "9  2013  tt1815862             After Earth           notalk     notalk   FAIL   \n",
      "\n",
      "      budget    domgross     intgross      code  budget_2013$  domgross_2013$  \\\n",
      "0   13000000  25682380.0   42195766.0  2013FAIL      13000000      25682380.0   \n",
      "1   45000000  13414714.0   40868994.0  2012PASS      45658735      13611086.0   \n",
      "2   20000000  53107035.0  158607035.0  2013FAIL      20000000      53107035.0   \n",
      "3   61000000  75612460.0  132493015.0  2013FAIL      61000000      75612460.0   \n",
      "4   40000000  95020213.0   95020213.0  2013FAIL      40000000      95020213.0   \n",
      "5  225000000  38362475.0  145803842.0  2013FAIL     225000000      38362475.0   \n",
      "6   92000000  67349198.0  304249198.0  2013FAIL      92000000      67349198.0   \n",
      "7   12000000  15323921.0   87324746.0  2013PASS      12000000      15323921.0   \n",
      "8   13000000  18007317.0   18007317.0  2013PASS      13000000      18007317.0   \n",
      "9  130000000  60522097.0  244373198.0  2013FAIL     130000000      60522097.0   \n",
      "\n",
      "   intgross_2013$  period code  decade code  \n",
      "0      42195766.0          1.0          1.0  \n",
      "1      41467257.0          1.0          1.0  \n",
      "2     158607035.0          1.0          1.0  \n",
      "3     132493015.0          1.0          1.0  \n",
      "4      95020213.0          1.0          1.0  \n",
      "5     145803842.0          1.0          1.0  \n",
      "6     304249198.0          1.0          1.0  \n",
      "7      87324746.0          1.0          1.0  \n",
      "8      18007317.0          1.0          1.0  \n",
      "9     244373198.0          1.0          1.0  \n"
     ]
    }
   ],
   "source": [
    "'''\n",
    "Quick Glance\n",
    "######################################\n",
    "'''\n",
    "view = data.head(10)\n",
    "print(view)"
   ]
  },
  {
   "cell_type": "code",
   "execution_count": 7,
   "metadata": {},
   "outputs": [],
   "source": [
    "# The data looks ok, it does not show too many missing values\n",
    "# and the continuous are in the same scale"
   ]
  },
  {
   "cell_type": "code",
   "execution_count": 8,
   "metadata": {},
   "outputs": [
    {
     "name": "stdout",
     "output_type": "stream",
     "text": [
      "(1794, 15)\n"
     ]
    }
   ],
   "source": [
    "'''\n",
    "Review Dimensions of the data\n",
    "######################################\n",
    "'''\n",
    "dim = data.shape\n",
    "print(dim)"
   ]
  },
  {
   "cell_type": "code",
   "execution_count": 9,
   "metadata": {},
   "outputs": [],
   "source": [
    "# dataset has 1794 rows and 15 columns (14 features and 1 target)"
   ]
  },
  {
   "cell_type": "code",
   "execution_count": 10,
   "metadata": {},
   "outputs": [
    {
     "data": {
      "text/plain": [
       "year                0\n",
       "imdb                0\n",
       "title               0\n",
       "test                0\n",
       "clean_test          0\n",
       "binary              0\n",
       "budget              0\n",
       "domgross           17\n",
       "intgross           11\n",
       "code                0\n",
       "budget_2013$        0\n",
       "domgross_2013$     18\n",
       "intgross_2013$     11\n",
       "period code       179\n",
       "decade code       179\n",
       "dtype: int64"
      ]
     },
     "execution_count": 10,
     "metadata": {},
     "output_type": "execute_result"
    }
   ],
   "source": [
    "'''\n",
    "Clean data\n",
    "######################################\n",
    "'''\n",
    "# let's check how many NaN values for each feature\n",
    "data.isnull().sum()"
   ]
  },
  {
   "cell_type": "code",
   "execution_count": 11,
   "metadata": {},
   "outputs": [
    {
     "name": "stdout",
     "output_type": "stream",
     "text": [
      "1600\n"
     ]
    }
   ],
   "source": [
    "# let's check the impact on the dataset size if the lines with NA values are removed\n",
    "print(len(data.dropna()))"
   ]
  },
  {
   "cell_type": "code",
   "execution_count": 12,
   "metadata": {},
   "outputs": [],
   "source": [
    "# the dataset will be reduced to 1600 rows, which is fine\n",
    "# so, there is no need to keep those values and work with\n",
    "# imputation methods"
   ]
  },
  {
   "cell_type": "code",
   "execution_count": 13,
   "metadata": {},
   "outputs": [
    {
     "data": {
      "text/plain": [
       "year              0\n",
       "imdb              0\n",
       "title             0\n",
       "test              0\n",
       "clean_test        0\n",
       "binary            0\n",
       "budget            0\n",
       "domgross          0\n",
       "intgross          0\n",
       "code              0\n",
       "budget_2013$      0\n",
       "domgross_2013$    0\n",
       "intgross_2013$    0\n",
       "period code       0\n",
       "decade code       0\n",
       "dtype: int64"
      ]
     },
     "execution_count": 13,
     "metadata": {},
     "output_type": "execute_result"
    }
   ],
   "source": [
    "data = data.dropna()\n",
    "# check that none NaN values was left\n",
    "data.isnull().sum()"
   ]
  },
  {
   "cell_type": "code",
   "execution_count": 14,
   "metadata": {},
   "outputs": [
    {
     "name": "stdout",
     "output_type": "stream",
     "text": [
      "(1600, 15)\n"
     ]
    }
   ],
   "source": [
    "# check new dimensions\n",
    "dim = data.shape\n",
    "print(dim)"
   ]
  },
  {
   "cell_type": "code",
   "execution_count": 15,
   "metadata": {},
   "outputs": [
    {
     "name": "stdout",
     "output_type": "stream",
     "text": [
      "year                int64\n",
      "imdb               object\n",
      "title              object\n",
      "test               object\n",
      "clean_test         object\n",
      "binary             object\n",
      "budget              int64\n",
      "domgross          float64\n",
      "intgross          float64\n",
      "code               object\n",
      "budget_2013$        int64\n",
      "domgross_2013$    float64\n",
      "intgross_2013$    float64\n",
      "period code       float64\n",
      "decade code       float64\n",
      "dtype: object\n"
     ]
    }
   ],
   "source": [
    "'''\n",
    "Review data types\n",
    "######################################\n",
    "'''\n",
    "types = data.dtypes\n",
    "print(types)"
   ]
  },
  {
   "cell_type": "code",
   "execution_count": 16,
   "metadata": {},
   "outputs": [],
   "source": [
    "# Note that the data type for one of the features that will be used (binary) is object (string)\n",
    "# So, I will need to convert that to integer values"
   ]
  },
  {
   "cell_type": "code",
   "execution_count": 17,
   "metadata": {},
   "outputs": [
    {
     "name": "stdout",
     "output_type": "stream",
     "text": [
      "binary\n",
      "FAIL    856\n",
      "PASS    744\n",
      "dtype: int64\n"
     ]
    }
   ],
   "source": [
    "'''\n",
    "Class distribution\n",
    "######################################\n",
    "'''\n",
    "# binary\n",
    "binary_count = data.groupby('binary').size()\n",
    "print (binary_count)"
   ]
  },
  {
   "cell_type": "code",
   "execution_count": 18,
   "metadata": {},
   "outputs": [],
   "source": [
    "def set_binary_int (row):\n",
    "   if row['binary'] == 'PASS':\n",
    "      return 1\n",
    "   return 0"
   ]
  },
  {
   "cell_type": "code",
   "execution_count": 19,
   "metadata": {},
   "outputs": [],
   "source": [
    "data[\"binary_int\"]  = data.apply (lambda row: set_binary_int(row), axis=1)"
   ]
  },
  {
   "cell_type": "code",
   "execution_count": 20,
   "metadata": {},
   "outputs": [
    {
     "name": "stdout",
     "output_type": "stream",
     "text": [
      "  binary  binary_int\n",
      "0   FAIL           0\n",
      "1   PASS           1\n",
      "2   FAIL           0\n",
      "3   FAIL           0\n",
      "4   FAIL           0\n",
      "5   FAIL           0\n",
      "6   FAIL           0\n",
      "7   PASS           1\n",
      "8   PASS           1\n",
      "9   FAIL           0\n"
     ]
    }
   ],
   "source": [
    "view = data.loc[ :, ['binary', 'binary_int']]\n",
    "print(view.head(10))"
   ]
  },
  {
   "cell_type": "code",
   "execution_count": 21,
   "metadata": {},
   "outputs": [
    {
     "name": "stdout",
     "output_type": "stream",
     "text": [
      "binary_int\n",
      "0    856\n",
      "1    744\n",
      "dtype: int64\n"
     ]
    }
   ],
   "source": [
    "binary_count = data.groupby('binary_int').size()\n",
    "print (binary_count)"
   ]
  },
  {
   "cell_type": "code",
   "execution_count": 22,
   "metadata": {},
   "outputs": [],
   "source": [
    "'''\n",
    "Data Description\n",
    "######################################\n",
    "'''\n",
    "# limiting the results up to two possible digits after decimals \n",
    "pd.set_option('precision', 2)"
   ]
  },
  {
   "cell_type": "code",
   "execution_count": 23,
   "metadata": {},
   "outputs": [
    {
     "name": "stdout",
     "output_type": "stream",
     "text": [
      "<class 'pandas.core.frame.DataFrame'>\n",
      "Int64Index: 1600 entries, 0 to 1614\n",
      "Data columns (total 16 columns):\n",
      "year              1600 non-null int64\n",
      "imdb              1600 non-null object\n",
      "title             1600 non-null object\n",
      "test              1600 non-null object\n",
      "clean_test        1600 non-null object\n",
      "binary            1600 non-null object\n",
      "budget            1600 non-null int64\n",
      "domgross          1600 non-null float64\n",
      "intgross          1600 non-null float64\n",
      "code              1600 non-null object\n",
      "budget_2013$      1600 non-null int64\n",
      "domgross_2013$    1600 non-null float64\n",
      "intgross_2013$    1600 non-null float64\n",
      "period code       1600 non-null float64\n",
      "decade code       1600 non-null float64\n",
      "binary_int        1600 non-null int64\n",
      "dtypes: float64(6), int64(4), object(6)\n",
      "memory usage: 175.0+ KB\n"
     ]
    }
   ],
   "source": [
    "# lists the number of non-null values and the datatype of each variable.\n",
    "data.info()"
   ]
  },
  {
   "cell_type": "code",
   "execution_count": 24,
   "metadata": {},
   "outputs": [],
   "source": [
    "# it shows that at this stage there is no NaN values "
   ]
  },
  {
   "cell_type": "code",
   "execution_count": 25,
   "metadata": {},
   "outputs": [
    {
     "name": "stdout",
     "output_type": "stream",
     "text": [
      "          year    budget  domgross  intgross  budget_2013$  domgross_2013$  \\\n",
      "count  1600.00  1.60e+03  1.60e+03  1.60e+03      1.60e+03        1.60e+03   \n",
      "mean   2004.80  4.84e+07  6.93e+07  1.56e+08      5.75e+07        8.42e+07   \n",
      "std       5.86  4.96e+07  8.08e+07  2.16e+08      5.61e+07        9.90e+07   \n",
      "min    1990.00  7.00e+03  8.28e+02  8.28e+02      8.63e+03        8.99e+02   \n",
      "25%    2000.75  1.40e+07  1.63e+07  2.70e+07      1.66e+07        1.90e+07   \n",
      "50%    2006.00  3.00e+07  4.26e+07  8.07e+07      3.80e+07        5.23e+07   \n",
      "75%    2010.00  6.56e+07  9.38e+07  1.99e+08      8.43e+07        1.12e+08   \n",
      "max    2013.00  4.25e+08  7.61e+08  2.78e+09      4.61e+08        9.56e+08   \n",
      "\n",
      "       intgross_2013$  period code  decade code  binary_int  \n",
      "count        1.60e+03      1600.00      1600.00     1600.00  \n",
      "mean         1.87e+08         2.43         1.94        0.47  \n",
      "std          2.59e+08         1.20         0.69        0.50  \n",
      "min          8.99e+02         1.00         1.00        0.00  \n",
      "25%          3.27e+07         1.00         1.00        0.00  \n",
      "50%          9.39e+07         2.00         2.00        0.00  \n",
      "75%          2.33e+08         3.00         2.00        1.00  \n",
      "max          3.17e+09         5.00         3.00        1.00  \n"
     ]
    }
   ],
   "source": [
    "# summary of statistics for the given dataset\n",
    "description = data.describe()\n",
    "print(description)"
   ]
  },
  {
   "cell_type": "code",
   "execution_count": 26,
   "metadata": {},
   "outputs": [],
   "source": [
    "# it shows that the target variable (budget_2013$) and features (domgross_2013$,intgross_2013$,binary_int)\n",
    "# have no negative or NaN values"
   ]
  },
  {
   "cell_type": "code",
   "execution_count": 27,
   "metadata": {},
   "outputs": [
    {
     "name": "stdout",
     "output_type": "stream",
     "text": [
      "                binary_int  budget_2013$  domgross_2013$  intgross_2013$\n",
      "binary_int            1.00         -0.17           -0.07           -0.08\n",
      "budget_2013$         -0.17          1.00            0.64            0.69\n",
      "domgross_2013$       -0.07          0.64            1.00            0.95\n",
      "intgross_2013$       -0.08          0.69            0.95            1.00\n"
     ]
    }
   ],
   "source": [
    "'''\n",
    "Correlations between Target and Feature\n",
    "######################################\n",
    "'''\n",
    "columns = ['binary_int','budget_2013$','domgross_2013$','intgross_2013$']\n",
    "correlations = data[columns].corr()\n",
    "print(correlations)"
   ]
  },
  {
   "cell_type": "code",
   "execution_count": 28,
   "metadata": {},
   "outputs": [],
   "source": [
    "'''\n",
    "Rescaling data\n",
    "######################################\n",
    "'''\n",
    "# There is a need for rescaling because the feature binary_int is in a different scale\n",
    "x_feature = ['binary_int','domgross_2013$', 'intgross_2013$']\n",
    "y_target  = ['budget_2013$']\n",
    "\n",
    "x = data[x_feature].values\n",
    "scale = MinMaxScaler (feature_range = (0,2))\n",
    "rescaled_data = scale.fit_transform(x)"
   ]
  },
  {
   "cell_type": "code",
   "execution_count": 29,
   "metadata": {},
   "outputs": [],
   "source": [
    "np.set_printoptions(precision=3)"
   ]
  },
  {
   "cell_type": "code",
   "execution_count": 30,
   "metadata": {},
   "outputs": [
    {
     "name": "stdout",
     "output_type": "stream",
     "text": [
      "[[0.    0.054 0.027]\n",
      " [2.    0.028 0.026]\n",
      " [0.    0.111 0.1  ]\n",
      " [0.    0.158 0.084]\n",
      " [0.    0.199 0.06 ]]\n"
     ]
    }
   ],
   "source": [
    "print(rescaled_data[0:5,:])"
   ]
  },
  {
   "cell_type": "code",
   "execution_count": 31,
   "metadata": {},
   "outputs": [
    {
     "name": "stdout",
     "output_type": "stream",
     "text": [
      "(1600, 3)\n"
     ]
    }
   ],
   "source": [
    "print(rescaled_data.shape)"
   ]
  },
  {
   "cell_type": "code",
   "execution_count": 32,
   "metadata": {},
   "outputs": [],
   "source": [
    "# set up x and y to be used on the test/train process\n",
    "x = rescaled_data\n",
    "y = data[y_target].values"
   ]
  },
  {
   "cell_type": "code",
   "execution_count": 33,
   "metadata": {},
   "outputs": [],
   "source": [
    "'''\n",
    "Applying Linear regression\n",
    "######################################\n",
    "'''\n",
    "# Splitting the dataset into training and test set\n",
    "x_train, x_test, y_train, y_test= train_test_split(x, y, test_size= 0.2, random_state=0)  "
   ]
  },
  {
   "cell_type": "code",
   "execution_count": 34,
   "metadata": {},
   "outputs": [
    {
     "name": "stdout",
     "output_type": "stream",
     "text": [
      "320\n",
      "320\n"
     ]
    }
   ],
   "source": [
    "print(len(x_test))   # 320  (20%)\n",
    "print(len(y_test))"
   ]
  },
  {
   "cell_type": "code",
   "execution_count": 35,
   "metadata": {},
   "outputs": [
    {
     "name": "stdout",
     "output_type": "stream",
     "text": [
      "1280\n",
      "1280\n"
     ]
    }
   ],
   "source": [
    "print(len(x_train))  # 1280 (80%)\n",
    "print(len(y_train))"
   ]
  },
  {
   "cell_type": "code",
   "execution_count": 36,
   "metadata": {},
   "outputs": [
    {
     "data": {
      "text/plain": [
       "LinearRegression(copy_X=True, fit_intercept=True, n_jobs=None, normalize=False)"
      ]
     },
     "execution_count": 36,
     "metadata": {},
     "output_type": "execute_result"
    }
   ],
   "source": [
    "# Fitting the model to the training set\n",
    "model = LinearRegression()  \n",
    "model.fit(x_train, y_train)  "
   ]
  },
  {
   "cell_type": "code",
   "execution_count": 37,
   "metadata": {},
   "outputs": [
    {
     "name": "stdout",
     "output_type": "stream",
     "text": [
      "320\n"
     ]
    }
   ],
   "source": [
    "# Checking the performance of the model by predicting the test set result\n",
    "y_pred = model.predict(x_test)  \n",
    "print(len(y_pred))"
   ]
  },
  {
   "cell_type": "code",
   "execution_count": 38,
   "metadata": {},
   "outputs": [
    {
     "name": "stdout",
     "output_type": "stream",
     "text": [
      "Mean squared error: 41063032.86551617\n"
     ]
    }
   ],
   "source": [
    "# Mean squared error\n",
    "test_set_rmse = (np.sqrt(mean_squared_error(y_test, y_pred)))\n",
    "print('Mean squared error:',test_set_rmse)"
   ]
  },
  {
   "cell_type": "code",
   "execution_count": null,
   "metadata": {},
   "outputs": [],
   "source": [
    "# The mean squared error is really high which indicates the model is not good and leads to underfitting error."
   ]
  },
  {
   "cell_type": "code",
   "execution_count": 39,
   "metadata": {},
   "outputs": [
    {
     "name": "stdout",
     "output_type": "stream",
     "text": [
      "Variance score: 0.40797528086306045\n"
     ]
    }
   ],
   "source": [
    "# R square\n",
    "test_set_r2   = r2_score(y_test, y_pred)\n",
    "print('Variance score:',test_set_r2)"
   ]
  },
  {
   "cell_type": "code",
   "execution_count": 41,
   "metadata": {},
   "outputs": [],
   "source": [
    "'''\n",
    "KFolds cross-validation to evaluate the model\n",
    "######################################\n",
    "'''\n",
    "kf = KFold (n_splits=20)\n",
    "list_training_error = []\n",
    "list_testing_error = []"
   ]
  },
  {
   "cell_type": "code",
   "execution_count": 42,
   "metadata": {},
   "outputs": [],
   "source": [
    "for train_idx, test_idx in kf.split(x):\n",
    "    # \n",
    "    x_train, x_test = x[train_idx], x[test_idx]\n",
    "    y_train, y_test = y[train_idx], y[test_idx]\n",
    "    \n",
    "    # fit the model\n",
    "    model = MLPRegressor()\n",
    "    model.fit(x_train, y_train)\n",
    "    \n",
    "    # prediction\n",
    "    y_train_pred = model.predict(x_train)\n",
    "    y_test_pred  = model.predict(x_test)\n",
    "    \n",
    "    # estimate the errors for test and training sets\n",
    "    fold_training_error = mean_absolute_error(y_train, y_train_pred) \n",
    "    fold_testing_error = mean_absolute_error(y_test, y_test_pred)\n",
    "    \n",
    "    list_training_error.append(fold_training_error)\n",
    "    list_testing_error.append(fold_testing_error)"
   ]
  },
  {
   "cell_type": "code",
   "execution_count": 43,
   "metadata": {},
   "outputs": [
    {
     "data": {
      "image/png": "[encoded data removed]",
      "text/plain": [
       "<Figure size 1080x720 with 2 Axes>"
      ]
     },
     "metadata": {},
     "output_type": "display_data"
    }
   ],
   "source": [
    "pyplot.style.use('ggplot')    \n",
    "pyplot.figure( figsize=(15,10))\n",
    "pyplot.subplot(1,2,1)\n",
    "pyplot.plot(range(1, kf.get_n_splits() + 1), np.array(list_training_error).ravel(), 'o-')\n",
    "pyplot.xlabel('number of fold')\n",
    "pyplot.ylabel('training error')\n",
    "pyplot.title('Training error across folds')\n",
    "pyplot.tight_layout()\n",
    "pyplot.subplot(1,2,2)\n",
    "pyplot.plot(range(1, kf.get_n_splits() + 1), np.array(list_testing_error).ravel(), 'o-')\n",
    "pyplot.xlabel('number of fold')\n",
    "pyplot.ylabel('testing error')\n",
    "pyplot.title('Testing error across folds')\n",
    "pyplot.tight_layout()\n",
    "pyplot.show()"
   ]
  },
  {
   "cell_type": "code",
   "execution_count": 44,
   "metadata": {},
   "outputs": [],
   "source": [
    "# We can see that around fold 12.5 both training and test errors are very high at the same time."
   ]
  },
  {
   "cell_type": "code",
   "execution_count": null,
   "metadata": {},
   "outputs": [],
   "source": []
  }
 ],
 "metadata": {
  "kernelspec": {
   "display_name": "Python 3",
   "language": "python",
   "name": "python3"
  },
  "language_info": {
   "codemirror_mode": {
    "name": "ipython",
    "version": 3
   },
   "file_extension": ".py",
   "mimetype": "text/x-python",
   "name": "python",
   "nbconvert_exporter": "python",
   "pygments_lexer": "ipython3",
   "version": "3.7.3"
  }
 },
 "nbformat": 4,
 "nbformat_minor": 4
}
